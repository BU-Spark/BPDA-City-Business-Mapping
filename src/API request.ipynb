{
 "cells": [
  {
   "cell_type": "code",
   "execution_count": null,
   "metadata": {},
   "outputs": [],
   "source": [
    "import requests\n",
    "import csv\n",
    "import pandas as pd\n",
    "import numpy as np\n",
    "import geopandas\n",
    "from pyproj import Proj, transform"
   ]
  },
  {
   "cell_type": "code",
   "execution_count": null,
   "metadata": {},
   "outputs": [],
   "source": [
    "# SAM = geopandas.read_file('Live_Street_Address_Management_SAM_Addresses/Live_Street_Address_Management_SAM_Addresses.shp')\n",
    "# SAM.crs"
   ]
  },
  {
   "cell_type": "code",
   "execution_count": null,
   "metadata": {},
   "outputs": [],
   "source": [
    "df = pd.DataFrame()\n",
    "df_all = pd.DataFrame()"
   ]
  },
  {
   "cell_type": "code",
   "execution_count": null,
   "metadata": {
    "scrolled": true
   },
   "outputs": [],
   "source": [
    "SAM = pd.read_csv('Live_Street_Address_Management_SAM_Addresses.csv')\n",
    "\n",
    "inProj = Proj(init='epsg:2249')\n",
    "outProj = Proj(init='epsg:4326')"
   ]
  },
  {
   "cell_type": "code",
   "execution_count": null,
   "metadata": {},
   "outputs": [],
   "source": [
    "# Bing API\n",
    "BingMapsAPIKey = \"Ag9OGZ8tuL2y_uhT0cKaTg-tuS4wocFWrEmWaIWCcfcMoLC5_2Jma00ZhRVoT0XK\""
   ]
  },
  {
   "cell_type": "code",
   "execution_count": null,
   "metadata": {},
   "outputs": [],
   "source": [
    "for idx in SAM.index[350000:398461]: \n",
    "    x = SAM['X'][idx]\n",
    "    y = SAM['Y'][idx]\n",
    "    longitude,latitude = transform(inProj,outProj,x,y)\n",
    "    record = idx\n",
    "\n",
    "    search_url = \"http://dev.virtualearth.net/REST/v1/locationrecog/\" + str(latitude) + \",\" + str(longitude) +\\\n",
    "                    \"?key=\" + BingMapsAPIKey + \"&output=json\"\n",
    "    response = requests.get(search_url)\n",
    "    response.raise_for_status()\n",
    "    search_results = response.json()\n",
    "\n",
    "    for i in range(len(search_results['resourceSets'][0]['resources'][0]['businessesAtLocation'])):\n",
    "        try:\n",
    "            lat = search_results['resourceSets'][0]['resources'][0]['businessesAtLocation'][i]['businessAddress']['latitude']\n",
    "            lon = search_results['resourceSets'][0]['resources'][0]['businessesAtLocation'][i]['businessAddress']['longitude']\n",
    "        except:\n",
    "            continue\n",
    "        \n",
    "        try:\n",
    "            addressLine = search_results['resourceSets'][0]['resources'][0]['businessesAtLocation'][i]['businessAddress']['addressLine']\n",
    "        except:\n",
    "            addressLine = np.nan\n",
    "            \n",
    "        try:\n",
    "            locality = search_results['resourceSets'][0]['resources'][0]['businessesAtLocation'][i]['businessAddress']['locality']\n",
    "        except:\n",
    "            locality = np.nan\n",
    "            \n",
    "        try:\n",
    "            postalCode = search_results['resourceSets'][0]['resources'][0]['businessesAtLocation'][i]['businessAddress']['postalCode']\n",
    "        except:\n",
    "            postalCode = np.nan\n",
    "            \n",
    "        try:\n",
    "            formattedAddress = search_results['resourceSets'][0]['resources'][0]['businessesAtLocation'][i]['businessAddress']['formattedAddress']\n",
    "        except:\n",
    "            formattedAddress = np.nan           \n",
    "        \n",
    "        try:\n",
    "            entityName = search_results['resourceSets'][0]['resources'][0]['businessesAtLocation'][i]['businessInfo']['entityName']\n",
    "        except:\n",
    "            entityName = np.nan\n",
    "            \n",
    "        try:\n",
    "            entityType = search_results['resourceSets'][0]['resources'][0]['businessesAtLocation'][i]['businessInfo']['type']\n",
    "        except:\n",
    "            entityType = np.nan\n",
    "            \n",
    "        try:\n",
    "            otherTypes = search_results['resourceSets'][0]['resources'][0]['businessesAtLocation'][i]['businessInfo']['otherTypes']\n",
    "        except:\n",
    "            otherTypes = np.nan\n",
    "        \n",
    "        df = df.append({'LAT': lat, \n",
    "                        'LON': lon,\n",
    "                        'ADDRESS_LINE': addressLine,\n",
    "                        'LOCALITY': locality,\n",
    "                        'ZIP_CODE': postalCode,\n",
    "                        'FULL_ADDRESS': formattedAddress,\n",
    "                        'BUSINESS_NAME': entityName,\n",
    "                        'BUSINESS_TYPE': entityType,\n",
    "                        'BUSINESS_OTHER_TYPES': otherTypes\n",
    "                         }, \n",
    "                       ignore_index=True)"
   ]
  },
  {
   "cell_type": "code",
   "execution_count": null,
   "metadata": {},
   "outputs": [],
   "source": [
    "df_all = df_all.append(df)\n",
    "df_all = df_all.drop_duplicates(subset=['LAT','LON','FULL_ADDRESS','BUSINESS_NAME'], keep='first')\n",
    "df_all = df_all.reset_index(drop=True)\n",
    "df_all"
   ]
  },
  {
   "cell_type": "code",
   "execution_count": null,
   "metadata": {},
   "outputs": [],
   "source": [
    "sequence = ['LAT','LON','ADDRESS_LINE','LOCALITY','ZIP_CODE','FULL_ADDRESS','BUSINESS_NAME','BUSINESS_TYPE','BUSINESS_OTHER_TYPES']\n",
    "df_all = df_all.reindex(columns=sequence)"
   ]
  },
  {
   "cell_type": "code",
   "execution_count": null,
   "metadata": {},
   "outputs": [],
   "source": []
  },
  {
   "cell_type": "code",
   "execution_count": null,
   "metadata": {},
   "outputs": [],
   "source": [
    "# Yelp API\n",
    "api_key = \"hC_sbOQsbpD1Rm10RW-SU96tPGKryfjOznw0-mjbd6Lh2FYTR-KveTG5I1wia2vKwT7E3NDc4Bdh3r7IXetVhTz-FmjB4dkzr4OkOMRdgpGWlbv-YBn-ZkIpLJj7XnYx\"\n",
    "url = 'https://api.yelp.com/v3/businesses/search'\n",
    "headers = {'Authorization': 'Bearer {}'.format(api_key)}"
   ]
  },
  {
   "cell_type": "code",
   "execution_count": null,
   "metadata": {},
   "outputs": [],
   "source": [
    "df = pd.DataFrame()\n",
    "for idx in coord.index[7621:7625]: \n",
    "    lat = coord['LAT'][idx]\n",
    "    lon = coord['LON'][idx]\n",
    "    record = idx\n",
    "\n",
    "    url_params = {'latitude': lat,\n",
    "                  'longitude': lon,\n",
    "                  'radius': 50}\n",
    "\n",
    "    response = requests.get(url, headers=headers, params=url_params)\n",
    "    search_results = response.json()\n",
    "    \n",
    "    for i in range(len(search_results['businesses'])):\n",
    "        try:\n",
    "            latitude = search_results['businesses'][i]['coordinates']['latitude']\n",
    "            longitude = search_results['businesses'][i]['coordinates']['longitude']\n",
    "            businessID = search_results['businesses'][i]['id']\n",
    "            name = search_results['businesses'][i]['name']\n",
    "        except:\n",
    "            continue\n",
    "        \n",
    "        try:\n",
    "            is_closed = search_results['businesses'][i]['is_closed']\n",
    "        except:\n",
    "            is_closed = np.nan\n",
    "            \n",
    "        try:\n",
    "            rating = search_results['businesses'][i]['rating']\n",
    "        except:\n",
    "            rating = np.nan\n",
    "            \n",
    "        try:\n",
    "            phone = search_results['businesses'][i]['coordinates']['display_phone']\n",
    "        except:\n",
    "            phone = np.nan\n",
    "        \n",
    "        categories = []\n",
    "        for j in range(len(search_results['businesses'][i]['categories'])):\n",
    "            categories.append(search_results['businesses'][i]['categories'][j]['title'])\n",
    "        \n",
    "        if len(search_results['businesses'][i]['location']['display_address']) > 1:\n",
    "            address1 = search_results['businesses'][i]['location']['display_address'][0]\n",
    "            address2 = search_results['businesses'][i]['location']['display_address'][1]\n",
    "            street_address = address1\n",
    "            locality = address2\n",
    "        else:\n",
    "            address = search_results['businesses'][i]['location']['display_address'][0]\n",
    "            locality = address\n",
    "            \n",
    "        df = df.append({'id': businessID,\n",
    "                        'latitude': latitude, \n",
    "                        'longitude': longitude,\n",
    "                        'street_address': street_address,\n",
    "                        'locality': locality,\n",
    "                        'business_name': name,\n",
    "                        'categories': categories,\n",
    "                        'is_closed': is_closed,\n",
    "                        'phone': phone,\n",
    "                        'rating': rating}, \n",
    "                       ignore_index=True)"
   ]
  },
  {
   "cell_type": "code",
   "execution_count": null,
   "metadata": {},
   "outputs": [],
   "source": []
  },
  {
   "cell_type": "code",
   "execution_count": null,
   "metadata": {},
   "outputs": [],
   "source": [
    "# OpenStreetMaps API\n",
    "df = pd.DataFrame()\n",
    "for idx in coord.index[6587:7625]: \n",
    "    lat = coord['LAT'][idx]\n",
    "    lon = coord['LON'][idx]\n",
    "    record = idx\n",
    "    \n",
    "    search_url = \"https://nominatim.openstreetmap.org/reverse?format=jsonv2&lat=\" + str(lat) + \"&lon=\" + str(lon)\n",
    "    response = requests.get(search_url)\n",
    "    response.raise_for_status()\n",
    "    search_results = response.json()\n",
    "    \n",
    "    for i in range(len(search_results)):\n",
    "        try:\n",
    "            osm_id = search_results['osm_id']\n",
    "            latitude = search_results['lat']\n",
    "            longitude = search_results['lon']\n",
    "        except:\n",
    "            continue\n",
    "            \n",
    "        try:\n",
    "            name = search_results['address']['amenity']\n",
    "        except:\n",
    "            name = ''\n",
    "            \n",
    "        try:\n",
    "            road = search_results['address']['road']\n",
    "        except:\n",
    "            road = ''\n",
    "            \n",
    "        try:\n",
    "            neighbourhood = search_results['address']['neighbourhood']\n",
    "        except:\n",
    "            neighbourhood = ''\n",
    "            \n",
    "        try:\n",
    "            suburb = search_results['address']['suburb']\n",
    "        except:\n",
    "            suburb = ''\n",
    "            \n",
    "        try:\n",
    "            city = search_results['address']['city']\n",
    "        except:\n",
    "            city = ''\n",
    "            \n",
    "        try:\n",
    "            county = search_results['address']['county']\n",
    "        except:\n",
    "            county = ''\n",
    "            \n",
    "        try:\n",
    "            state = search_results['address']['state']\n",
    "        except:\n",
    "            state = ''\n",
    "            \n",
    "        try:\n",
    "            postcode = search_results['address']['postcode']\n",
    "        except:\n",
    "            postcode = ''\n",
    "    \n",
    "        address = road + ', ' + neighbourhood + ', ' + suburb + ', ' + city + ', ' + \\\n",
    "                  county + ', ' + state + ', ' + postcode\n",
    "        \n",
    "    df = df.append({'osm_id': osm_id,\n",
    "                    'latitude': latitude, \n",
    "                    'longitude': longitude,\n",
    "                    'business_name': name,\n",
    "                    'road': road,\n",
    "                    'neighbourhood': neighbourhood,\n",
    "                    'suburb': suburb,\n",
    "                    'city': city,\n",
    "                    'county': county,\n",
    "                    'state': state,\n",
    "                    'postcode': postcode,\n",
    "                    'full_address': address},\n",
    "                    ignore_index=True)"
   ]
  },
  {
   "cell_type": "code",
   "execution_count": null,
   "metadata": {},
   "outputs": [],
   "source": [
    "df_all = df_all.append(df)\n",
    "print(len(df_all))\n",
    "df_all = df_all.drop_duplicates(subset=['business_name', 'full_address'], keep='first')\n",
    "df_all = df_all.reset_index(drop=True)"
   ]
  },
  {
   "cell_type": "code",
   "execution_count": null,
   "metadata": {},
   "outputs": [],
   "source": [
    "sequence = ['osm_id','latitude','longitude','business_name','road','neighbourhood','suburb','city','county',\n",
    "            'state','postcode','full_address']\n",
    "df_all = df_all.reindex(columns=sequence)\n",
    "df_all"
   ]
  },
  {
   "cell_type": "code",
   "execution_count": null,
   "metadata": {},
   "outputs": [],
   "source": [
    "df_all.to_excel('OSM.xlsx')"
   ]
  },
  {
   "cell_type": "code",
   "execution_count": null,
   "metadata": {},
   "outputs": [],
   "source": []
  },
  {
   "cell_type": "code",
   "execution_count": null,
   "metadata": {},
   "outputs": [],
   "source": [
    "f = pd.read_excel('merged_update.xlsx')\n",
    "f"
   ]
  },
  {
   "cell_type": "code",
   "execution_count": null,
   "metadata": {},
   "outputs": [],
   "source": [
    "InfoUSA_Only = f[(f['In InfoUSA list (Y/N)'] == 'Y') &\n",
    "                 (f['In MSD list (Y/N)'] == 'N') &\n",
    "                 (f['In Google list (Y/N)'] == 'N') &\n",
    "                 (f['In Bing list (Y/N)'] == 'N')]\n",
    "\n",
    "len(InfoUSA_Only)"
   ]
  },
  {
   "cell_type": "code",
   "execution_count": null,
   "metadata": {},
   "outputs": [],
   "source": [
    "MG_Only = f[(f['In Yelp list (Y/N)'] == 'N') &\n",
    "            (f['In Google list (Y/N)'] == 'N') &\n",
    "            (f['In Bing list (Y/N)'] == 'N') &\n",
    "            (f['In Yellowpages list (Y/N)'] == 'N') &\n",
    "            (f['In Manual Google (Y/N)'] == 'Y')]\n",
    "len(MG_Only)"
   ]
  },
  {
   "cell_type": "code",
   "execution_count": null,
   "metadata": {},
   "outputs": [],
   "source": [
    "MSD_Only = f[(f['In MSD list (Y/N)'] == 'Y') &\n",
    "              (f['In Google list (Y/N)'] == 'N') &\n",
    "              (f['In Bing list (Y/N)'] == 'N') &\n",
    "              (f['In Yelp list (Y/N)'] == 'N')]\n",
    "\n",
    "len(MSD_Only)"
   ]
  },
  {
   "cell_type": "code",
   "execution_count": null,
   "metadata": {},
   "outputs": [],
   "source": [
    "Yelp = f[(f['In Yelp list (Y/N)'] == 'Y')]\n",
    "len(Yelp)"
   ]
  },
  {
   "cell_type": "code",
   "execution_count": null,
   "metadata": {},
   "outputs": [],
   "source": [
    "Yelp_Google = f[(f['In Yelp list (Y/N)'] == 'Y') &\n",
    "                (f['In Google list (Y/N)'] == 'Y')]\n",
    "len(Yelp_Google)"
   ]
  },
  {
   "cell_type": "code",
   "execution_count": null,
   "metadata": {},
   "outputs": [],
   "source": [
    "Yelp_MG = f[(f['In Manual Google (Y/N)'] == 'Y') &\n",
    "            (f['In Yelp list (Y/N)'] == 'Y')]\n",
    "len(Yelp_MG)"
   ]
  },
  {
   "cell_type": "code",
   "execution_count": null,
   "metadata": {},
   "outputs": [],
   "source": [
    "Yelp_Only = f[(f['In MSD list (Y/N)'] == 'N') &\n",
    "              (f['In Google list (Y/N)'] == 'N') &\n",
    "              (f['In Bing list (Y/N)'] == 'N') &\n",
    "              (f['In Yelp list (Y/N)'] == 'Y')]\n",
    "len(Yelp_Only)"
   ]
  },
  {
   "cell_type": "code",
   "execution_count": null,
   "metadata": {},
   "outputs": [],
   "source": [
    "InfoUSA = f[(f['In InfoUSA list (Y/N)'] == 'Y')]\n",
    "len(InfoUSA)"
   ]
  },
  {
   "cell_type": "code",
   "execution_count": null,
   "metadata": {},
   "outputs": [],
   "source": [
    "InfoUSA_Google = f[(f['In InfoUSA list (Y/N)'] == 'Y') &\n",
    "                (f['In Google list (Y/N)'] == 'Y')]\n",
    "len(InfoUSA_Google)"
   ]
  },
  {
   "cell_type": "code",
   "execution_count": null,
   "metadata": {},
   "outputs": [],
   "source": [
    "InfoUSA_Bing = f[(f['In InfoUSA list (Y/N)'] == 'Y') &\n",
    "                 (f['In Bing list (Y/N)'] == 'Y')]\n",
    "len(InfoUSA_Bing)"
   ]
  },
  {
   "cell_type": "code",
   "execution_count": null,
   "metadata": {},
   "outputs": [],
   "source": [
    "InfoUSA_YP = f[(f['In Yellowpages list (Y/N)'] == 'Y') &\n",
    "                (f['In InfoUSA list (Y/N)'] == 'Y')]\n",
    "len(InfoUSA_YP)"
   ]
  },
  {
   "cell_type": "code",
   "execution_count": null,
   "metadata": {},
   "outputs": [],
   "source": [
    "SafeGraph = f[(f['In SafeGraph list (Y/N)'] == 'Y')]\n",
    "len(SafeGraph)"
   ]
  },
  {
   "cell_type": "code",
   "execution_count": null,
   "metadata": {},
   "outputs": [],
   "source": [
    "SafeGraph_Google = f[(f['In SafeGraph list (Y/N)'] == 'Y') &\n",
    "                     (f['In Google list (Y/N)'] == 'Y')]\n",
    "len(SafeGraph_Google)"
   ]
  },
  {
   "cell_type": "code",
   "execution_count": null,
   "metadata": {},
   "outputs": [],
   "source": [
    "SafeGraph_Bing = f[(f['In SafeGraph list (Y/N)'] == 'Y') &\n",
    "                   (f['In Bing list (Y/N)'] == 'Y')]\n",
    "len(SafeGraph_Bing)"
   ]
  },
  {
   "cell_type": "code",
   "execution_count": null,
   "metadata": {},
   "outputs": [],
   "source": [
    "SafeGraph_MG = f[(f['In SafeGraph list (Y/N)'] == 'Y') &\n",
    "                 (f['In Manual Google (Y/N)'] == 'Y')]\n",
    "len(SafeGraph_MG)"
   ]
  },
  {
   "cell_type": "code",
   "execution_count": null,
   "metadata": {},
   "outputs": [],
   "source": [
    "SafeGraph_Unique = f[(f['In SafeGraph list (Y/N)'] == 'Y') &\n",
    "                     (f['In Google list (Y/N)'] == 'N') &\n",
    "                     (f['In Bing list (Y/N)'] == 'N') &\n",
    "                     (f['In Yelp list (Y/N)'] == 'N') &\n",
    "                     (f['In Yellowpages list (Y/N)'] == 'N') &\n",
    "                     (f['In InfoUSA list (Y/N)'] == 'N') &\n",
    "                     (f['In MSD list (Y/N)'] == 'N')]\n",
    "len(SafeGraph_Unique)"
   ]
  },
  {
   "cell_type": "code",
   "execution_count": null,
   "metadata": {},
   "outputs": [],
   "source": [
    "newf = f[f['In Manual Google (Y/N)'] == 'Y']\n",
    "\n",
    "except_Google = newf[(newf['In Bing list (Y/N)'] == 'Y') |\n",
    "                     (newf['In Yelp list (Y/N)'] == 'Y') |\n",
    "                     (newf['In Yellowpages list (Y/N)'] == 'Y') |\n",
    "                     (newf['In SafeGraph list (Y/N)'] == 'Y')]\n",
    "\n",
    "len(except_Google)"
   ]
  },
  {
   "cell_type": "code",
   "execution_count": null,
   "metadata": {},
   "outputs": [],
   "source": []
  }
 ],
 "metadata": {
  "kernelspec": {
   "display_name": "Python 3",
   "language": "python",
   "name": "python3"
  },
  "language_info": {
   "codemirror_mode": {
    "name": "ipython",
    "version": 3
   },
   "file_extension": ".py",
   "mimetype": "text/x-python",
   "name": "python",
   "nbconvert_exporter": "python",
   "pygments_lexer": "ipython3",
   "version": "3.7.6"
  }
 },
 "nbformat": 4,
 "nbformat_minor": 4
}
